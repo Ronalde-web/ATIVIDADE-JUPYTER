{
  "nbformat": 4,
  "nbformat_minor": 0,
  "metadata": {
    "colab": {
      "provenance": [],
      "collapsed_sections": [],
      "authorship_tag": "ABX9TyN0ivFQZcsLWxr6l5PBPPC1",
      "include_colab_link": true
    },
    "kernelspec": {
      "name": "python3",
      "display_name": "Python 3"
    },
    "language_info": {
      "name": "python"
    }
  },
  "cells": [
    {
      "cell_type": "markdown",
      "metadata": {
        "id": "view-in-github",
        "colab_type": "text"
      },
      "source": [
        "<a href=\"https://colab.research.google.com/github/Ronalde-web/ATIVIDADE-JUPYTER/blob/main/Atividade_hugo.ipynb\" target=\"_parent\"><img src=\"https://colab.research.google.com/assets/colab-badge.svg\" alt=\"Open In Colab\"/></a>"
      ]
    },
    {
      "cell_type": "code",
      "execution_count": 1,
      "metadata": {
        "id": "eiarfu-gQjVt"
      },
      "outputs": [],
      "source": [
        "import pandas as pd"
      ]
    },
    {
      "cell_type": "code",
      "source": [
        "import matplotlib.pyplot as plt\n",
        "import numpy as np"
      ],
      "metadata": {
        "id": "SASULQUkSli3"
      },
      "execution_count": 7,
      "outputs": []
    },
    {
      "cell_type": "code",
      "source": [
        "df = pd.read_excel('/content/Micro_Dados_SAEB_2021.xlsx')"
      ],
      "metadata": {
        "id": "k3XZlev4QmW8"
      },
      "execution_count": 8,
      "outputs": []
    },
    {
      "cell_type": "code",
      "source": [
        "df.head(6)"
      ],
      "metadata": {
        "colab": {
          "base_uri": "https://localhost:8080/",
          "height": 331
        },
        "id": "5quINMM-Rmmy",
        "outputId": "6d624d49-ed4b-451d-a9cc-cc20dd80511e"
      },
      "execution_count": 12,
      "outputs": [
        {
          "output_type": "execute_result",
          "data": {
            "text/plain": [
              "   NU_ANO_SAEB  CO_UF  CO_MUNICIPIO  IN_CAPITAL  TP_LOCALIZACAO  \\\n",
              "0         2021     11       1100015           0               1   \n",
              "1         2021     11       1100015           0               1   \n",
              "2         2021     11       1100015           0               1   \n",
              "3         2021     11       1100015           0               1   \n",
              "4         2021     11       1100015           0               1   \n",
              "5         2021     11       1100015           0               1   \n",
              "\n",
              "   ID_EDUCACAO_INFANTIL  TP_EDUCACAO_INFANTIL  TP_DEPENDENCIA_ADM_ESTRT  \\\n",
              "0                    60                   2.0                       1.0   \n",
              "1                    61                   2.0                       1.0   \n",
              "2                    62                   2.0                       1.0   \n",
              "3                    63                   2.0                       1.0   \n",
              "4                   195                   3.0                       1.0   \n",
              "5                   196                   3.0                       1.0   \n",
              "\n",
              "   NU_DOMINIO  NU_ESTRATO  ...  EG4Q66 EG4Q67  EG4Q68 EG4Q69  EG4Q70  EG4Q71  \\\n",
              "0       111.0    111102.0  ...     NaN    NaN     NaN    NaN     NaN     NaN   \n",
              "1       111.0    111102.0  ...     NaN    NaN     NaN    NaN     NaN     NaN   \n",
              "2       111.0    111102.0  ...     NaN    NaN     NaN    NaN     NaN     NaN   \n",
              "3       111.0    111102.0  ...     NaN    NaN     NaN    NaN     NaN     NaN   \n",
              "4       111.0    111103.0  ...     NaN    NaN     NaN    NaN     NaN     NaN   \n",
              "5       111.0    111103.0  ...     NaN    NaN     NaN    NaN     NaN     NaN   \n",
              "\n",
              "   EG4Q72  EG4Q73  EG4Q74  EG5Q01  \n",
              "0     NaN     NaN     NaN     NaN  \n",
              "1     NaN     NaN     NaN     NaN  \n",
              "2     NaN     NaN     NaN     NaN  \n",
              "3     NaN     NaN     NaN     NaN  \n",
              "4     NaN     NaN     NaN     NaN  \n",
              "5     NaN     NaN     NaN     NaN  \n",
              "\n",
              "[6 rows x 421 columns]"
            ],
            "text/html": [
              "\n",
              "  <div id=\"df-cec8af05-f038-407f-9d42-60ec6ea1cd87\">\n",
              "    <div class=\"colab-df-container\">\n",
              "      <div>\n",
              "<style scoped>\n",
              "    .dataframe tbody tr th:only-of-type {\n",
              "        vertical-align: middle;\n",
              "    }\n",
              "\n",
              "    .dataframe tbody tr th {\n",
              "        vertical-align: top;\n",
              "    }\n",
              "\n",
              "    .dataframe thead th {\n",
              "        text-align: right;\n",
              "    }\n",
              "</style>\n",
              "<table border=\"1\" class=\"dataframe\">\n",
              "  <thead>\n",
              "    <tr style=\"text-align: right;\">\n",
              "      <th></th>\n",
              "      <th>NU_ANO_SAEB</th>\n",
              "      <th>CO_UF</th>\n",
              "      <th>CO_MUNICIPIO</th>\n",
              "      <th>IN_CAPITAL</th>\n",
              "      <th>TP_LOCALIZACAO</th>\n",
              "      <th>ID_EDUCACAO_INFANTIL</th>\n",
              "      <th>TP_EDUCACAO_INFANTIL</th>\n",
              "      <th>TP_DEPENDENCIA_ADM_ESTRT</th>\n",
              "      <th>NU_DOMINIO</th>\n",
              "      <th>NU_ESTRATO</th>\n",
              "      <th>...</th>\n",
              "      <th>EG4Q66</th>\n",
              "      <th>EG4Q67</th>\n",
              "      <th>EG4Q68</th>\n",
              "      <th>EG4Q69</th>\n",
              "      <th>EG4Q70</th>\n",
              "      <th>EG4Q71</th>\n",
              "      <th>EG4Q72</th>\n",
              "      <th>EG4Q73</th>\n",
              "      <th>EG4Q74</th>\n",
              "      <th>EG5Q01</th>\n",
              "    </tr>\n",
              "  </thead>\n",
              "  <tbody>\n",
              "    <tr>\n",
              "      <th>0</th>\n",
              "      <td>2021</td>\n",
              "      <td>11</td>\n",
              "      <td>1100015</td>\n",
              "      <td>0</td>\n",
              "      <td>1</td>\n",
              "      <td>60</td>\n",
              "      <td>2.0</td>\n",
              "      <td>1.0</td>\n",
              "      <td>111.0</td>\n",
              "      <td>111102.0</td>\n",
              "      <td>...</td>\n",
              "      <td>NaN</td>\n",
              "      <td>NaN</td>\n",
              "      <td>NaN</td>\n",
              "      <td>NaN</td>\n",
              "      <td>NaN</td>\n",
              "      <td>NaN</td>\n",
              "      <td>NaN</td>\n",
              "      <td>NaN</td>\n",
              "      <td>NaN</td>\n",
              "      <td>NaN</td>\n",
              "    </tr>\n",
              "    <tr>\n",
              "      <th>1</th>\n",
              "      <td>2021</td>\n",
              "      <td>11</td>\n",
              "      <td>1100015</td>\n",
              "      <td>0</td>\n",
              "      <td>1</td>\n",
              "      <td>61</td>\n",
              "      <td>2.0</td>\n",
              "      <td>1.0</td>\n",
              "      <td>111.0</td>\n",
              "      <td>111102.0</td>\n",
              "      <td>...</td>\n",
              "      <td>NaN</td>\n",
              "      <td>NaN</td>\n",
              "      <td>NaN</td>\n",
              "      <td>NaN</td>\n",
              "      <td>NaN</td>\n",
              "      <td>NaN</td>\n",
              "      <td>NaN</td>\n",
              "      <td>NaN</td>\n",
              "      <td>NaN</td>\n",
              "      <td>NaN</td>\n",
              "    </tr>\n",
              "    <tr>\n",
              "      <th>2</th>\n",
              "      <td>2021</td>\n",
              "      <td>11</td>\n",
              "      <td>1100015</td>\n",
              "      <td>0</td>\n",
              "      <td>1</td>\n",
              "      <td>62</td>\n",
              "      <td>2.0</td>\n",
              "      <td>1.0</td>\n",
              "      <td>111.0</td>\n",
              "      <td>111102.0</td>\n",
              "      <td>...</td>\n",
              "      <td>NaN</td>\n",
              "      <td>NaN</td>\n",
              "      <td>NaN</td>\n",
              "      <td>NaN</td>\n",
              "      <td>NaN</td>\n",
              "      <td>NaN</td>\n",
              "      <td>NaN</td>\n",
              "      <td>NaN</td>\n",
              "      <td>NaN</td>\n",
              "      <td>NaN</td>\n",
              "    </tr>\n",
              "    <tr>\n",
              "      <th>3</th>\n",
              "      <td>2021</td>\n",
              "      <td>11</td>\n",
              "      <td>1100015</td>\n",
              "      <td>0</td>\n",
              "      <td>1</td>\n",
              "      <td>63</td>\n",
              "      <td>2.0</td>\n",
              "      <td>1.0</td>\n",
              "      <td>111.0</td>\n",
              "      <td>111102.0</td>\n",
              "      <td>...</td>\n",
              "      <td>NaN</td>\n",
              "      <td>NaN</td>\n",
              "      <td>NaN</td>\n",
              "      <td>NaN</td>\n",
              "      <td>NaN</td>\n",
              "      <td>NaN</td>\n",
              "      <td>NaN</td>\n",
              "      <td>NaN</td>\n",
              "      <td>NaN</td>\n",
              "      <td>NaN</td>\n",
              "    </tr>\n",
              "    <tr>\n",
              "      <th>4</th>\n",
              "      <td>2021</td>\n",
              "      <td>11</td>\n",
              "      <td>1100015</td>\n",
              "      <td>0</td>\n",
              "      <td>1</td>\n",
              "      <td>195</td>\n",
              "      <td>3.0</td>\n",
              "      <td>1.0</td>\n",
              "      <td>111.0</td>\n",
              "      <td>111103.0</td>\n",
              "      <td>...</td>\n",
              "      <td>NaN</td>\n",
              "      <td>NaN</td>\n",
              "      <td>NaN</td>\n",
              "      <td>NaN</td>\n",
              "      <td>NaN</td>\n",
              "      <td>NaN</td>\n",
              "      <td>NaN</td>\n",
              "      <td>NaN</td>\n",
              "      <td>NaN</td>\n",
              "      <td>NaN</td>\n",
              "    </tr>\n",
              "    <tr>\n",
              "      <th>5</th>\n",
              "      <td>2021</td>\n",
              "      <td>11</td>\n",
              "      <td>1100015</td>\n",
              "      <td>0</td>\n",
              "      <td>1</td>\n",
              "      <td>196</td>\n",
              "      <td>3.0</td>\n",
              "      <td>1.0</td>\n",
              "      <td>111.0</td>\n",
              "      <td>111103.0</td>\n",
              "      <td>...</td>\n",
              "      <td>NaN</td>\n",
              "      <td>NaN</td>\n",
              "      <td>NaN</td>\n",
              "      <td>NaN</td>\n",
              "      <td>NaN</td>\n",
              "      <td>NaN</td>\n",
              "      <td>NaN</td>\n",
              "      <td>NaN</td>\n",
              "      <td>NaN</td>\n",
              "      <td>NaN</td>\n",
              "    </tr>\n",
              "  </tbody>\n",
              "</table>\n",
              "<p>6 rows × 421 columns</p>\n",
              "</div>\n",
              "      <button class=\"colab-df-convert\" onclick=\"convertToInteractive('df-cec8af05-f038-407f-9d42-60ec6ea1cd87')\"\n",
              "              title=\"Convert this dataframe to an interactive table.\"\n",
              "              style=\"display:none;\">\n",
              "        \n",
              "  <svg xmlns=\"http://www.w3.org/2000/svg\" height=\"24px\"viewBox=\"0 0 24 24\"\n",
              "       width=\"24px\">\n",
              "    <path d=\"M0 0h24v24H0V0z\" fill=\"none\"/>\n",
              "    <path d=\"M18.56 5.44l.94 2.06.94-2.06 2.06-.94-2.06-.94-.94-2.06-.94 2.06-2.06.94zm-11 1L8.5 8.5l.94-2.06 2.06-.94-2.06-.94L8.5 2.5l-.94 2.06-2.06.94zm10 10l.94 2.06.94-2.06 2.06-.94-2.06-.94-.94-2.06-.94 2.06-2.06.94z\"/><path d=\"M17.41 7.96l-1.37-1.37c-.4-.4-.92-.59-1.43-.59-.52 0-1.04.2-1.43.59L10.3 9.45l-7.72 7.72c-.78.78-.78 2.05 0 2.83L4 21.41c.39.39.9.59 1.41.59.51 0 1.02-.2 1.41-.59l7.78-7.78 2.81-2.81c.8-.78.8-2.07 0-2.86zM5.41 20L4 18.59l7.72-7.72 1.47 1.35L5.41 20z\"/>\n",
              "  </svg>\n",
              "      </button>\n",
              "      \n",
              "  <style>\n",
              "    .colab-df-container {\n",
              "      display:flex;\n",
              "      flex-wrap:wrap;\n",
              "      gap: 12px;\n",
              "    }\n",
              "\n",
              "    .colab-df-convert {\n",
              "      background-color: #E8F0FE;\n",
              "      border: none;\n",
              "      border-radius: 50%;\n",
              "      cursor: pointer;\n",
              "      display: none;\n",
              "      fill: #1967D2;\n",
              "      height: 32px;\n",
              "      padding: 0 0 0 0;\n",
              "      width: 32px;\n",
              "    }\n",
              "\n",
              "    .colab-df-convert:hover {\n",
              "      background-color: #E2EBFA;\n",
              "      box-shadow: 0px 1px 2px rgba(60, 64, 67, 0.3), 0px 1px 3px 1px rgba(60, 64, 67, 0.15);\n",
              "      fill: #174EA6;\n",
              "    }\n",
              "\n",
              "    [theme=dark] .colab-df-convert {\n",
              "      background-color: #3B4455;\n",
              "      fill: #D2E3FC;\n",
              "    }\n",
              "\n",
              "    [theme=dark] .colab-df-convert:hover {\n",
              "      background-color: #434B5C;\n",
              "      box-shadow: 0px 1px 3px 1px rgba(0, 0, 0, 0.15);\n",
              "      filter: drop-shadow(0px 1px 2px rgba(0, 0, 0, 0.3));\n",
              "      fill: #FFFFFF;\n",
              "    }\n",
              "  </style>\n",
              "\n",
              "      <script>\n",
              "        const buttonEl =\n",
              "          document.querySelector('#df-cec8af05-f038-407f-9d42-60ec6ea1cd87 button.colab-df-convert');\n",
              "        buttonEl.style.display =\n",
              "          google.colab.kernel.accessAllowed ? 'block' : 'none';\n",
              "\n",
              "        async function convertToInteractive(key) {\n",
              "          const element = document.querySelector('#df-cec8af05-f038-407f-9d42-60ec6ea1cd87');\n",
              "          const dataTable =\n",
              "            await google.colab.kernel.invokeFunction('convertToInteractive',\n",
              "                                                     [key], {});\n",
              "          if (!dataTable) return;\n",
              "\n",
              "          const docLinkHtml = 'Like what you see? Visit the ' +\n",
              "            '<a target=\"_blank\" href=https://colab.research.google.com/notebooks/data_table.ipynb>data table notebook</a>'\n",
              "            + ' to learn more about interactive tables.';\n",
              "          element.innerHTML = '';\n",
              "          dataTable['output_type'] = 'display_data';\n",
              "          await google.colab.output.renderOutput(dataTable, element);\n",
              "          const docLink = document.createElement('div');\n",
              "          docLink.innerHTML = docLinkHtml;\n",
              "          element.appendChild(docLink);\n",
              "        }\n",
              "      </script>\n",
              "    </div>\n",
              "  </div>\n",
              "  "
            ]
          },
          "metadata": {},
          "execution_count": 12
        }
      ]
    },
    {
      "cell_type": "code",
      "source": [
        "df.groupby(['Modelo']).size()"
      ],
      "metadata": {
        "id": "ZJ4NFqDuYaL7"
      },
      "execution_count": null,
      "outputs": []
    },
    {
      "cell_type": "code",
      "source": [
        "df.info"
      ],
      "metadata": {
        "colab": {
          "base_uri": "https://localhost:8080/"
        },
        "id": "6dH6MLENUMrZ",
        "outputId": "99a5da31-1b1b-431f-dab4-7d7851b7dc7e"
      },
      "execution_count": 11,
      "outputs": [
        {
          "output_type": "execute_result",
          "data": {
            "text/plain": [
              "<bound method DataFrame.info of        NU_ANO_SAEB  CO_UF  CO_MUNICIPIO  IN_CAPITAL  TP_LOCALIZACAO  \\\n",
              "0             2021     11       1100015           0               1   \n",
              "1             2021     11       1100015           0               1   \n",
              "2             2021     11       1100015           0               1   \n",
              "3             2021     11       1100015           0               1   \n",
              "4             2021     11       1100015           0               1   \n",
              "...            ...    ...           ...         ...             ...   \n",
              "62922         2021     53       5300108           1               1   \n",
              "62923         2021     53       5300108           1               1   \n",
              "62924         2021     53       5300108           1               1   \n",
              "62925         2021     53       5300108           1               1   \n",
              "62926         2021     53       5300108           1               2   \n",
              "\n",
              "       ID_EDUCACAO_INFANTIL  TP_EDUCACAO_INFANTIL  TP_DEPENDENCIA_ADM_ESTRT  \\\n",
              "0                        60                   2.0                       1.0   \n",
              "1                        61                   2.0                       1.0   \n",
              "2                        62                   2.0                       1.0   \n",
              "3                        63                   2.0                       1.0   \n",
              "4                       195                   3.0                       1.0   \n",
              "...                     ...                   ...                       ...   \n",
              "62922                 62923                   4.0                       3.0   \n",
              "62923                 62924                   4.0                       3.0   \n",
              "62924                 62925                   4.0                       3.0   \n",
              "62925                 62926                   4.0                       3.0   \n",
              "62926                 62927                   4.0                       3.0   \n",
              "\n",
              "       NU_DOMINIO  NU_ESTRATO  ...  EG4Q66 EG4Q67  EG4Q68 EG4Q69  EG4Q70  \\\n",
              "0           111.0    111102.0  ...     NaN    NaN     NaN    NaN     NaN   \n",
              "1           111.0    111102.0  ...     NaN    NaN     NaN    NaN     NaN   \n",
              "2           111.0    111102.0  ...     NaN    NaN     NaN    NaN     NaN   \n",
              "3           111.0    111102.0  ...     NaN    NaN     NaN    NaN     NaN   \n",
              "4           111.0    111103.0  ...     NaN    NaN     NaN    NaN     NaN   \n",
              "...           ...         ...  ...     ...    ...     ...    ...     ...   \n",
              "62922       533.0    533114.0  ...     NaN    NaN     NaN    NaN     NaN   \n",
              "62923       533.0    533114.0  ...       A      A       B      A       A   \n",
              "62924       533.0    533114.0  ...     NaN    NaN     NaN    NaN     NaN   \n",
              "62925       533.0    533114.0  ...     NaN    NaN     NaN    NaN     NaN   \n",
              "62926       533.0    533214.0  ...     NaN    NaN     NaN    NaN     NaN   \n",
              "\n",
              "       EG4Q71  EG4Q72  EG4Q73  EG4Q74  EG5Q01  \n",
              "0         NaN     NaN     NaN     NaN     NaN  \n",
              "1         NaN     NaN     NaN     NaN     NaN  \n",
              "2         NaN     NaN     NaN     NaN     NaN  \n",
              "3         NaN     NaN     NaN     NaN     NaN  \n",
              "4         NaN     NaN     NaN     NaN     NaN  \n",
              "...       ...     ...     ...     ...     ...  \n",
              "62922     NaN     NaN     NaN     NaN     NaN  \n",
              "62923       A       A       A       A     NaN  \n",
              "62924     NaN     NaN     NaN     NaN     NaN  \n",
              "62925     NaN     NaN     NaN     NaN     NaN  \n",
              "62926     NaN     NaN     NaN     NaN     NaN  \n",
              "\n",
              "[62927 rows x 421 columns]>"
            ]
          },
          "metadata": {},
          "execution_count": 11
        }
      ]
    },
    {
      "cell_type": "code",
      "source": [
        "df.dtypes"
      ],
      "metadata": {
        "colab": {
          "base_uri": "https://localhost:8080/"
        },
        "id": "F_iBgy6LUagY",
        "outputId": "2f783ddb-486d-4bf7-85d1-064bcf89dc58"
      },
      "execution_count": 13,
      "outputs": [
        {
          "output_type": "execute_result",
          "data": {
            "text/plain": [
              "NU_ANO_SAEB        int64\n",
              "CO_UF              int64\n",
              "CO_MUNICIPIO       int64\n",
              "IN_CAPITAL         int64\n",
              "TP_LOCALIZACAO     int64\n",
              "                   ...  \n",
              "EG4Q71            object\n",
              "EG4Q72            object\n",
              "EG4Q73            object\n",
              "EG4Q74            object\n",
              "EG5Q01            object\n",
              "Length: 421, dtype: object"
            ]
          },
          "metadata": {},
          "execution_count": 13
        }
      ]
    },
    {
      "cell_type": "code",
      "source": [
        "teste = df['IN_CAPITAL']"
      ],
      "metadata": {
        "id": "cRZTCxflXMh0"
      },
      "execution_count": 22,
      "outputs": []
    },
    {
      "cell_type": "code",
      "source": [
        "teste1 = df.loc[:,['IN_CAPITAL']]"
      ],
      "metadata": {
        "id": "yaRzv_cnZlxP"
      },
      "execution_count": 25,
      "outputs": []
    },
    {
      "cell_type": "code",
      "source": [
        "mediana = df['IN_CAPITAL'].median\n",
        "print(\"Mediana: \", mediana)"
      ],
      "metadata": {
        "colab": {
          "base_uri": "https://localhost:8080/"
        },
        "id": "5KqfvdA4VBtH",
        "outputId": "86745957-409c-4ed1-e6e6-b917df5763a6"
      },
      "execution_count": 32,
      "outputs": [
        {
          "output_type": "stream",
          "name": "stdout",
          "text": [
            "Mediana:  <bound method NDFrame._add_numeric_operations.<locals>.median of 0        0\n",
            "1        0\n",
            "2        0\n",
            "3        0\n",
            "4        0\n",
            "        ..\n",
            "62922    1\n",
            "62923    1\n",
            "62924    1\n",
            "62925    1\n",
            "62926    1\n",
            "Name: IN_CAPITAL, Length: 62927, dtype: int64>\n"
          ]
        }
      ]
    },
    {
      "cell_type": "code",
      "source": [
        "moda = df['IN_CAPITAL'].mode\n",
        "print(moda)"
      ],
      "metadata": {
        "colab": {
          "base_uri": "https://localhost:8080/"
        },
        "id": "KOpR0fG1adRq",
        "outputId": "dd20d2bb-9153-4974-dfa2-11a73cf5e349"
      },
      "execution_count": 33,
      "outputs": [
        {
          "output_type": "stream",
          "name": "stdout",
          "text": [
            "<bound method Series.mode of 0        0\n",
            "1        0\n",
            "2        0\n",
            "3        0\n",
            "4        0\n",
            "        ..\n",
            "62922    1\n",
            "62923    1\n",
            "62924    1\n",
            "62925    1\n",
            "62926    1\n",
            "Name: IN_CAPITAL, Length: 62927, dtype: int64>\n"
          ]
        }
      ]
    },
    {
      "cell_type": "code",
      "source": [
        "import statistics\n",
        "import math\n",
        "from scipy import stats\n",
        "from collections import Counter"
      ],
      "metadata": {
        "id": "Pzp0ykm5bJ6X"
      },
      "execution_count": 28,
      "outputs": []
    },
    {
      "cell_type": "code",
      "source": [
        "#Média\n",
        "print(teste1.mean())"
      ],
      "metadata": {
        "colab": {
          "base_uri": "https://localhost:8080/"
        },
        "id": "rD_i-lxqbyHF",
        "outputId": "12ae6c8c-c48f-4e54-ff2a-79f9f1e8b551"
      },
      "execution_count": 36,
      "outputs": [
        {
          "output_type": "stream",
          "name": "stdout",
          "text": [
            "IN_CAPITAL    0.227931\n",
            "dtype: float64\n"
          ]
        }
      ]
    },
    {
      "cell_type": "code",
      "source": [
        "# Variancia\n",
        "teste1.var()"
      ],
      "metadata": {
        "colab": {
          "base_uri": "https://localhost:8080/"
        },
        "id": "KyOz14lzcPNt",
        "outputId": "1304729a-7bcf-4974-f211-fb59d1784abf"
      },
      "execution_count": 38,
      "outputs": [
        {
          "output_type": "execute_result",
          "data": {
            "text/plain": [
              "IN_CAPITAL    0.175981\n",
              "dtype: float64"
            ]
          },
          "metadata": {},
          "execution_count": 38
        }
      ]
    },
    {
      "cell_type": "code",
      "source": [
        "#desvio padrão\n",
        "teste1.std()"
      ],
      "metadata": {
        "colab": {
          "base_uri": "https://localhost:8080/"
        },
        "id": "gS29OEYecbfZ",
        "outputId": "ad697728-1a16-487a-8ac5-deeedb69c65d"
      },
      "execution_count": 39,
      "outputs": [
        {
          "output_type": "execute_result",
          "data": {
            "text/plain": [
              "IN_CAPITAL    0.419501\n",
              "dtype: float64"
            ]
          },
          "metadata": {},
          "execution_count": 39
        }
      ]
    },
    {
      "cell_type": "code",
      "source": [
        "teste1.mode()"
      ],
      "metadata": {
        "colab": {
          "base_uri": "https://localhost:8080/",
          "height": 81
        },
        "id": "UjH4XDWFcbax",
        "outputId": "4b6c044a-411c-40e7-b73d-321d8f0b3fdd"
      },
      "execution_count": 40,
      "outputs": [
        {
          "output_type": "execute_result",
          "data": {
            "text/plain": [
              "   IN_CAPITAL\n",
              "0           0"
            ],
            "text/html": [
              "\n",
              "  <div id=\"df-0f0dc275-a503-4046-bab2-18dc72cdc662\">\n",
              "    <div class=\"colab-df-container\">\n",
              "      <div>\n",
              "<style scoped>\n",
              "    .dataframe tbody tr th:only-of-type {\n",
              "        vertical-align: middle;\n",
              "    }\n",
              "\n",
              "    .dataframe tbody tr th {\n",
              "        vertical-align: top;\n",
              "    }\n",
              "\n",
              "    .dataframe thead th {\n",
              "        text-align: right;\n",
              "    }\n",
              "</style>\n",
              "<table border=\"1\" class=\"dataframe\">\n",
              "  <thead>\n",
              "    <tr style=\"text-align: right;\">\n",
              "      <th></th>\n",
              "      <th>IN_CAPITAL</th>\n",
              "    </tr>\n",
              "  </thead>\n",
              "  <tbody>\n",
              "    <tr>\n",
              "      <th>0</th>\n",
              "      <td>0</td>\n",
              "    </tr>\n",
              "  </tbody>\n",
              "</table>\n",
              "</div>\n",
              "      <button class=\"colab-df-convert\" onclick=\"convertToInteractive('df-0f0dc275-a503-4046-bab2-18dc72cdc662')\"\n",
              "              title=\"Convert this dataframe to an interactive table.\"\n",
              "              style=\"display:none;\">\n",
              "        \n",
              "  <svg xmlns=\"http://www.w3.org/2000/svg\" height=\"24px\"viewBox=\"0 0 24 24\"\n",
              "       width=\"24px\">\n",
              "    <path d=\"M0 0h24v24H0V0z\" fill=\"none\"/>\n",
              "    <path d=\"M18.56 5.44l.94 2.06.94-2.06 2.06-.94-2.06-.94-.94-2.06-.94 2.06-2.06.94zm-11 1L8.5 8.5l.94-2.06 2.06-.94-2.06-.94L8.5 2.5l-.94 2.06-2.06.94zm10 10l.94 2.06.94-2.06 2.06-.94-2.06-.94-.94-2.06-.94 2.06-2.06.94z\"/><path d=\"M17.41 7.96l-1.37-1.37c-.4-.4-.92-.59-1.43-.59-.52 0-1.04.2-1.43.59L10.3 9.45l-7.72 7.72c-.78.78-.78 2.05 0 2.83L4 21.41c.39.39.9.59 1.41.59.51 0 1.02-.2 1.41-.59l7.78-7.78 2.81-2.81c.8-.78.8-2.07 0-2.86zM5.41 20L4 18.59l7.72-7.72 1.47 1.35L5.41 20z\"/>\n",
              "  </svg>\n",
              "      </button>\n",
              "      \n",
              "  <style>\n",
              "    .colab-df-container {\n",
              "      display:flex;\n",
              "      flex-wrap:wrap;\n",
              "      gap: 12px;\n",
              "    }\n",
              "\n",
              "    .colab-df-convert {\n",
              "      background-color: #E8F0FE;\n",
              "      border: none;\n",
              "      border-radius: 50%;\n",
              "      cursor: pointer;\n",
              "      display: none;\n",
              "      fill: #1967D2;\n",
              "      height: 32px;\n",
              "      padding: 0 0 0 0;\n",
              "      width: 32px;\n",
              "    }\n",
              "\n",
              "    .colab-df-convert:hover {\n",
              "      background-color: #E2EBFA;\n",
              "      box-shadow: 0px 1px 2px rgba(60, 64, 67, 0.3), 0px 1px 3px 1px rgba(60, 64, 67, 0.15);\n",
              "      fill: #174EA6;\n",
              "    }\n",
              "\n",
              "    [theme=dark] .colab-df-convert {\n",
              "      background-color: #3B4455;\n",
              "      fill: #D2E3FC;\n",
              "    }\n",
              "\n",
              "    [theme=dark] .colab-df-convert:hover {\n",
              "      background-color: #434B5C;\n",
              "      box-shadow: 0px 1px 3px 1px rgba(0, 0, 0, 0.15);\n",
              "      filter: drop-shadow(0px 1px 2px rgba(0, 0, 0, 0.3));\n",
              "      fill: #FFFFFF;\n",
              "    }\n",
              "  </style>\n",
              "\n",
              "      <script>\n",
              "        const buttonEl =\n",
              "          document.querySelector('#df-0f0dc275-a503-4046-bab2-18dc72cdc662 button.colab-df-convert');\n",
              "        buttonEl.style.display =\n",
              "          google.colab.kernel.accessAllowed ? 'block' : 'none';\n",
              "\n",
              "        async function convertToInteractive(key) {\n",
              "          const element = document.querySelector('#df-0f0dc275-a503-4046-bab2-18dc72cdc662');\n",
              "          const dataTable =\n",
              "            await google.colab.kernel.invokeFunction('convertToInteractive',\n",
              "                                                     [key], {});\n",
              "          if (!dataTable) return;\n",
              "\n",
              "          const docLinkHtml = 'Like what you see? Visit the ' +\n",
              "            '<a target=\"_blank\" href=https://colab.research.google.com/notebooks/data_table.ipynb>data table notebook</a>'\n",
              "            + ' to learn more about interactive tables.';\n",
              "          element.innerHTML = '';\n",
              "          dataTable['output_type'] = 'display_data';\n",
              "          await google.colab.output.renderOutput(dataTable, element);\n",
              "          const docLink = document.createElement('div');\n",
              "          docLink.innerHTML = docLinkHtml;\n",
              "          element.appendChild(docLink);\n",
              "        }\n",
              "      </script>\n",
              "    </div>\n",
              "  </div>\n",
              "  "
            ]
          },
          "metadata": {},
          "execution_count": 40
        }
      ]
    },
    {
      "cell_type": "code",
      "source": [
        "# TROCANDO OS VALORES DA COLUNA ('transmissao') DE OBJECT PARA INT\n",
        "\n",
        "df['CO_UF'].replace({11: 'RO', 12: 'AC', 13: 'AM', 14:'RR', 15:'PA',16:'AP',\n",
        "17:'TO', 21:'MA', 22:'PI',23:'CE',24:'RN',25:'PB',26:'PE',27:'AL',28:'SE',29:'BA',\n",
        "31:'MG',32:'ES',33:'RJ',35:'SP',41:'PR',42:'SC',43:'RS',50:'MS',51:'MT',52:'GO',53:'DF'})"
      ],
      "metadata": {
        "colab": {
          "base_uri": "https://localhost:8080/"
        },
        "id": "n4RdURs2cbVZ",
        "outputId": "0ac02ae6-c35e-4e05-f7c8-b2b8f6d083b4"
      },
      "execution_count": 44,
      "outputs": [
        {
          "output_type": "execute_result",
          "data": {
            "text/plain": [
              "0        RO\n",
              "1        RO\n",
              "2        RO\n",
              "3        RO\n",
              "4        RO\n",
              "         ..\n",
              "62922    DF\n",
              "62923    DF\n",
              "62924    DF\n",
              "62925    DF\n",
              "62926    DF\n",
              "Name: CO_UF, Length: 62927, dtype: object"
            ]
          },
          "metadata": {},
          "execution_count": 44
        }
      ]
    },
    {
      "cell_type": "code",
      "source": [],
      "metadata": {
        "id": "A0ZAf6FlcbMp"
      },
      "execution_count": null,
      "outputs": []
    }
  ]
}